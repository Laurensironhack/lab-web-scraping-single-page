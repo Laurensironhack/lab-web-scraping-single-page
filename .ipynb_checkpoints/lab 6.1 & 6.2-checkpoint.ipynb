{
 "cells": [
  {
   "cell_type": "code",
   "execution_count": 5,
   "id": "733c6c01",
   "metadata": {},
   "outputs": [],
   "source": [
    "from bs4 import BeautifulSoup\n",
    "import requests\n",
    "import pandas as pd"
   ]
  },
  {
   "cell_type": "code",
   "execution_count": 6,
   "id": "8f1cba83",
   "metadata": {},
   "outputs": [],
   "source": [
    "url =\"https://www.popvortex.com/music/charts/top-100-songs.php\""
   ]
  },
  {
   "cell_type": "code",
   "execution_count": 7,
   "id": "7a723d8c",
   "metadata": {},
   "outputs": [
    {
     "data": {
      "text/plain": [
       "200"
      ]
     },
     "execution_count": 7,
     "metadata": {},
     "output_type": "execute_result"
    }
   ],
   "source": [
    "response = requests.get(url)\n",
    "response.status_code"
   ]
  },
  {
   "cell_type": "code",
   "execution_count": 8,
   "id": "0714d592",
   "metadata": {},
   "outputs": [],
   "source": [
    "soup = BeautifulSoup(response.content, \"html.parser\")"
   ]
  },
  {
   "cell_type": "code",
   "execution_count": 12,
   "id": "a3e41002",
   "metadata": {},
   "outputs": [],
   "source": [
    "#soup"
   ]
  },
  {
   "cell_type": "code",
   "execution_count": 54,
   "id": "39ccbf52",
   "metadata": {},
   "outputs": [
    {
     "data": {
      "text/plain": [
       "'Fast Car'"
      ]
     },
     "execution_count": 54,
     "metadata": {},
     "output_type": "execute_result"
    }
   ],
   "source": [
    "soup.select(\"div.chart-content.col-xs-12.col-sm-8 > p > cite\")[0].get_text()"
   ]
  },
  {
   "cell_type": "code",
   "execution_count": 56,
   "id": "ba5a1fcc",
   "metadata": {},
   "outputs": [
    {
     "data": {
      "text/plain": [
       "'Luke Combs'"
      ]
     },
     "execution_count": 56,
     "metadata": {},
     "output_type": "execute_result"
    }
   ],
   "source": [
    "soup.select(\"div.chart-content.col-xs-12.col-sm-8 > p > em\")[0].get_text()"
   ]
  },
  {
   "cell_type": "code",
   "execution_count": null,
   "id": "993d7116",
   "metadata": {},
   "outputs": [],
   "source": [
    "#chart-position-1 > div.chart-content.col-xs-12.col-sm-8 > p > em"
   ]
  },
  {
   "cell_type": "code",
   "execution_count": null,
   "id": "f51a64f4",
   "metadata": {},
   "outputs": [],
   "source": [
    "#chart-position-1 > div.chart-content.col-xs-12.col-sm-8 > p > cite"
   ]
  },
  {
   "cell_type": "code",
   "execution_count": null,
   "id": "e5d504a5",
   "metadata": {},
   "outputs": [],
   "source": [
    "#chart-position-1 > div.chart-content.col-xs-12.col-sm-8 > p > cite"
   ]
  },
  {
   "cell_type": "code",
   "execution_count": 58,
   "id": "491b983e",
   "metadata": {},
   "outputs": [
    {
     "name": "stdout",
     "output_type": "stream",
     "text": [
      "['Fast Car', 'Take Two', 'Last Night', 'Need A Favor', '81 Million Votes, My Ass', 'Save Me (with Lainey Wilson)', 'Son', 'Flowers', 'Thank God I Do', 'Rode Hard', 'Calm Down', 'Bust a Move', 'Son Of A Sinner', 'Thinkin’ Bout Me', 'Funky Cold Medina', 'Dance The Night', 'Area Codes', 'Pound Town 2', 'Stand By Me (feat. Morgan Wallen)', 'Thicc As Thieves', 'All My Life (feat. J. Cole)', 'TRUSTFALL', 'Wild Thing', 'Let Me In', 'VULGAR', 'Cruel Summer', 'Thought You Should Know', 'Favorite Song', 'Heart Like A Truck', 'Dancin’ In The Country', 'Thank God', 'Love You Anyway', 'Karma', 'Anti-Hero', 'Religiously', 'If You Were Mine', 'Eyes Closed', 'Heaven', 'Rock and A Hard Place', 'One Thing At A Time', 'To the Bar', 'Mourning', \"Something in the Orange (Z&E's Version)\", 'Popular', 'Am I Dreaming', 'Praise You Anywhere', 'Bury Me in Georgia (Single Edit)', 'Watermelon Moonshine', 'Next Thing You Know', 'Can She Have This Dance', 'Tennessee Orange', 'Chemical', 'Dial Drunk', 'Tennessee Whiskey', 'Daylight', 'Fast Car', 'Unstoppable', 'Wasted On You', 'Hip Hop Hooray (Re-recorded Version)', 'wait in the truck', 'Sure Thing', 'Ella Baila Sola', 'Halfway To Hell', 'Waffle House', 'Take Me Out', 'Shivers', 'Peaches', 'Try That In A Small Town', 'O.P.P. (Re-recorded Version)', 'Cupid (Twin Ver.)', 'You Proof', 'Oklahoma Smokeshow', 'WHERE SHE GOES', 'One Margarita (Margarita Song)', 'red flag collector', 'Gratitude', 'TRUCK BED', 'Drinkaby', 'Slut Me Out', 'PLEBADA', 'Whiskey Glasses', \"I Ain't Worried\", 'Makeba', 'Karma (feat. Ice Spice)', 'Perfect', 'Thunderstruck', 'Lilith (Diablo IV Anthem)', 'As It Was', 'You Need To Calm Down', 'Lover', 'Hits Different', 'Life Goes On (feat. Luke Combs)', 'Your Heart Or Mine', 'Memory Lane', 'HAPPY', 'Sunflower (Spider-Man: Into the Spider-Verse)', 'Beat You There', \"'Til You Can't\", 'Put It On Da Floor Again (feat. Cardi B)', \"Chasin' You\"]\n",
      "['Luke Combs', 'BTS', 'Morgan Wallen', 'Jelly Roll', 'The Truth Bombers & Kari Lake', 'Jelly Roll', 'Mitch Rossell', 'Miley Cyrus', 'Lauren Daigle', 'Danae Hays', 'Rema & Selena Gomez', 'Young MC', 'Jelly Roll', 'Morgan Wallen', 'Tone-Loc', 'Dua Lipa', 'Kali', 'Sexyy Red, Nicki Minaj & Tay Keith', 'Lil Durk', 'Lauren Alaina & Lainey Wilson', 'Lil Durk', 'P!nk', 'Tone-Loc', 'EXO', 'Sam Smith & Madonna', 'Taylor Swift', 'Morgan Wallen', 'Toosii', 'Lainey Wilson', 'Tyler Hubbard', 'Kane Brown & Katelyn Brown', 'Luke Combs', 'Taylor Swift', 'Taylor Swift', 'Bailey Zimmerman', 'Miranda Lambert & Leon Bridges', 'Ed Sheeran', 'Niall Horan', 'Bailey Zimmerman', 'Morgan Wallen', 'Cooper Alan', 'Post Malone', 'Zach Bryan', 'The Weeknd, Playboi Carti & Madonna', 'Metro Boomin, A$AP Rocky & Roisee', 'Brandon Lake', 'Kane Brown', 'Lainey Wilson', 'Jordan Davis', 'Drew Baldridge', 'Megan Moroney', 'Post Malone', 'Noah Kahan', 'Chris Stapleton', 'David Kushner', 'Tracy Chapman', 'Sia', 'Morgan Wallen', 'Naughty By Nature', 'HARDY & Lainey Wilson', 'Miguel', 'Eslabon Armado & Peso Pluma', 'Jelly Roll', 'Jonas Brothers', 'Carrie Underwood', 'Ed Sheeran', 'Jack Black', 'Jason Aldean', 'Naughty By Nature', 'FIFTY FIFTY', 'Morgan Wallen', 'Zach Bryan', 'Bad Bunny', 'That Chick Angel, Casa Di & Steve Terrell', 'Kelly Clarkson', 'Brandon Lake', 'HARDY', 'Cole Swindell', 'NLE Choppa', 'El Alfa & Peso Pluma', 'Morgan Wallen', 'OneRepublic', 'Jain', 'Taylor Swift', 'Ed Sheeran', 'AC/DC', 'Halsey, SUGA of BTS', 'Harry Styles', 'Taylor Swift', 'Taylor Swift', 'Taylor Swift', 'Ed Sheeran', 'Jon Pardi', 'Old Dominion', 'NF', 'Post Malone & Swae Lee', 'Will Dempsey', 'Cody Johnson', 'Latto', 'Morgan Wallen']\n"
     ]
    }
   ],
   "source": [
    "#initialize empty lists\n",
    "title = []\n",
    "artist =[]\n",
    "\n",
    "\n",
    "# define the number of iterations of our for loop\n",
    "# by checking how many elements are in the retrieved result set\n",
    "# (this is equivalent but more robust than just explicitly defining 250 iterations)\n",
    "num_iter = len(soup.select(\" div.chart-content.col-xs-12.col-sm-8 > p\"))\n",
    "\n",
    "# iterate through the result set and retrive all the data\n",
    "for i in range(num_iter):\n",
    "    title.append(soup.select(\"div.chart-content.col-xs-12.col-sm-8 > p > cite\")[i].get_text())\n",
    "    artist.append(soup.select(\"div.chart-content.col-xs-12.col-sm-8 > p > em\")[i].get_text())\n",
    "    \n",
    "print(title)\n",
    "print(artist)\n"
   ]
  },
  {
   "cell_type": "code",
   "execution_count": 16,
   "id": "c6cb237b",
   "metadata": {},
   "outputs": [
    {
     "data": {
      "text/plain": [
       "[<p>Chart of <strong>iTunes top 100 songs</strong> downloaded at the Apple iTunes music store today. The iTunes top 100 songs chart list countdown includes the hottest and most popular music hits and singles from all musical genres including today's hot <a href=\"top-pop-songs.php\">pop</a>, <a href=\"top-rap-songs.php\">rap</a>, <a href=\"top-rock-songs.php\">rock</a>, and <a href=\"top-country-songs.php\">country</a> songs.</p>,\n",
       " <p>The chart of the current best selling hot 100 song downloads on iTunes right now is updated daily and is for the top singles in the USA.</p>,\n",
       " <p>The number one song on iTunes right now is <strong><a href=\"https://music.apple.com/us/album/fast-car/1666738524?i=1666738585&amp;uo=2&amp;partnerId=11&amp;at=10l4UI\" rel=\"nofollow\">Fast Car by Luke Combs</a></strong>.</p>,\n",
       " <p>Chart of the top 100 hot tracks and singles <span>last updated: <time>June, 12 2023</time></span></p>,\n",
       " <p><strong>Related Charts</strong>: <a href=\"apple-music-top-songs.php\">Apple Music Top Streaming Songs</a>, <a href=\"itunes-top-400-songs.php\">iTunes Top 200 Songs</a>, <a href=\"top-new-songs.php\">Top New Songs  June 2023</a>, <a href=\"top-100-albums.php\">Top 100 Albums</a>, and <a href=\"top-music-videos.php\">Top 40 Music Videos</a>.</p>,\n",
       " <p class=\"chart-position\">1</p>,\n",
       " <p class=\"title-artist\"><cite class=\"title\">Fast Car</cite><em class=\"artist\">Luke Combs</em></p>,\n",
       " <p class=\"chart-position\">2</p>,\n",
       " <p class=\"title-artist\"><cite class=\"title\">Take Two</cite><em class=\"artist\">BTS</em></p>,\n",
       " <p class=\"chart-position\">3</p>,\n",
       " <p class=\"title-artist\"><cite class=\"title\">Last Night</cite><em class=\"artist\">Morgan Wallen</em></p>,\n",
       " <p class=\"chart-position\">4</p>,\n",
       " <p class=\"title-artist\"><cite class=\"title\">Need A Favor</cite><em class=\"artist\">Jelly Roll</em></p>,\n",
       " <p class=\"chart-position\">5</p>,\n",
       " <p class=\"title-artist\"><cite class=\"title\">81 Million Votes, My Ass</cite><em class=\"artist\">The Truth Bombers &amp; Kari Lake</em></p>,\n",
       " <p class=\"chart-position\">6</p>,\n",
       " <p class=\"title-artist\"><cite class=\"title\">Save Me (with Lainey Wilson)</cite><em class=\"artist\">Jelly Roll</em></p>,\n",
       " <p class=\"chart-position\">7</p>,\n",
       " <p class=\"title-artist\"><cite class=\"title\">Son</cite><em class=\"artist\">Mitch Rossell</em></p>,\n",
       " <p class=\"chart-position\">8</p>,\n",
       " <p class=\"title-artist\"><cite class=\"title\">Flowers</cite><em class=\"artist\">Miley Cyrus</em></p>,\n",
       " <p class=\"chart-position\">9</p>,\n",
       " <p class=\"title-artist\"><cite class=\"title\">Thank God I Do</cite><em class=\"artist\">Lauren Daigle</em></p>,\n",
       " <p class=\"chart-position\">10</p>,\n",
       " <p class=\"title-artist\"><cite class=\"title\">Rode Hard</cite><em class=\"artist\">Danae Hays</em></p>,\n",
       " <p class=\"chart-position\">11</p>,\n",
       " <p class=\"title-artist\"><cite class=\"title\">Calm Down</cite><em class=\"artist\">Rema &amp; Selena Gomez</em></p>,\n",
       " <p class=\"chart-position\">12</p>,\n",
       " <p class=\"title-artist\"><cite class=\"title\">Bust a Move</cite><em class=\"artist\">Young MC</em></p>,\n",
       " <p class=\"chart-position\">13</p>,\n",
       " <p class=\"title-artist\"><cite class=\"title\">Son Of A Sinner</cite><em class=\"artist\">Jelly Roll</em></p>,\n",
       " <p class=\"chart-position\">14</p>,\n",
       " <p class=\"title-artist\"><cite class=\"title\">Thinkin’ Bout Me</cite><em class=\"artist\">Morgan Wallen</em></p>,\n",
       " <p class=\"chart-position\">15</p>,\n",
       " <p class=\"title-artist\"><cite class=\"title\">Funky Cold Medina</cite><em class=\"artist\">Tone-Loc</em></p>,\n",
       " <p class=\"chart-position\">16</p>,\n",
       " <p class=\"title-artist\"><cite class=\"title\">Dance The Night</cite><em class=\"artist\">Dua Lipa</em></p>,\n",
       " <p class=\"chart-position\">17</p>,\n",
       " <p class=\"title-artist\"><cite class=\"title\">Area Codes</cite><em class=\"artist\">Kali</em></p>,\n",
       " <p class=\"chart-position\">18</p>,\n",
       " <p class=\"title-artist\"><cite class=\"title\">Pound Town 2</cite><em class=\"artist\">Sexyy Red, Nicki Minaj &amp; Tay Keith</em></p>,\n",
       " <p class=\"chart-position\">19</p>,\n",
       " <p class=\"title-artist\"><cite class=\"title\">Stand By Me (feat. Morgan Wallen)</cite><em class=\"artist\">Lil Durk</em></p>,\n",
       " <p class=\"chart-position\">20</p>,\n",
       " <p class=\"title-artist\"><cite class=\"title\">Thicc As Thieves</cite><em class=\"artist\">Lauren Alaina &amp; Lainey Wilson</em></p>,\n",
       " <p class=\"chart-position\">21</p>,\n",
       " <p class=\"title-artist\"><cite class=\"title\">All My Life (feat. J. Cole)</cite><em class=\"artist\">Lil Durk</em></p>,\n",
       " <p class=\"chart-position\">22</p>,\n",
       " <p class=\"title-artist\"><cite class=\"title\">TRUSTFALL</cite><em class=\"artist\">P!nk</em></p>,\n",
       " <p class=\"chart-position\">23</p>,\n",
       " <p class=\"title-artist\"><cite class=\"title\">Wild Thing</cite><em class=\"artist\">Tone-Loc</em></p>,\n",
       " <p class=\"chart-position\">24</p>,\n",
       " <p class=\"title-artist\"><cite class=\"title\">Let Me In</cite><em class=\"artist\">EXO</em></p>,\n",
       " <p class=\"chart-position\">25</p>,\n",
       " <p class=\"title-artist\"><cite class=\"title\">VULGAR</cite><em class=\"artist\">Sam Smith &amp; Madonna</em></p>,\n",
       " <p class=\"chart-position\">26</p>,\n",
       " <p class=\"title-artist\"><cite class=\"title\">Cruel Summer</cite><em class=\"artist\">Taylor Swift</em></p>,\n",
       " <p class=\"chart-position\">27</p>,\n",
       " <p class=\"title-artist\"><cite class=\"title\">Thought You Should Know</cite><em class=\"artist\">Morgan Wallen</em></p>,\n",
       " <p class=\"chart-position\">28</p>,\n",
       " <p class=\"title-artist\"><cite class=\"title\">Favorite Song</cite><em class=\"artist\">Toosii</em></p>,\n",
       " <p class=\"chart-position\">29</p>,\n",
       " <p class=\"title-artist\"><cite class=\"title\">Heart Like A Truck</cite><em class=\"artist\">Lainey Wilson</em></p>,\n",
       " <p class=\"chart-position\">30</p>,\n",
       " <p class=\"title-artist\"><cite class=\"title\">Dancin’ In The Country</cite><em class=\"artist\">Tyler Hubbard</em></p>,\n",
       " <p class=\"chart-position\">31</p>,\n",
       " <p class=\"title-artist\"><cite class=\"title\">Thank God</cite><em class=\"artist\">Kane Brown &amp; Katelyn Brown</em></p>,\n",
       " <p class=\"chart-position\">32</p>,\n",
       " <p class=\"title-artist\"><cite class=\"title\">Love You Anyway</cite><em class=\"artist\">Luke Combs</em></p>,\n",
       " <p class=\"chart-position\">33</p>,\n",
       " <p class=\"title-artist\"><cite class=\"title\">Karma</cite><em class=\"artist\">Taylor Swift</em></p>,\n",
       " <p class=\"chart-position\">34</p>,\n",
       " <p class=\"title-artist\"><cite class=\"title\">Anti-Hero</cite><em class=\"artist\">Taylor Swift</em></p>,\n",
       " <p class=\"chart-position\">35</p>,\n",
       " <p class=\"title-artist\"><cite class=\"title\">Religiously</cite><em class=\"artist\">Bailey Zimmerman</em></p>,\n",
       " <p class=\"chart-position\">36</p>,\n",
       " <p class=\"title-artist\"><cite class=\"title\">If You Were Mine</cite><em class=\"artist\">Miranda Lambert &amp; Leon Bridges</em></p>,\n",
       " <p class=\"chart-position\">37</p>,\n",
       " <p class=\"title-artist\"><cite class=\"title\">Eyes Closed</cite><em class=\"artist\">Ed Sheeran</em></p>,\n",
       " <p class=\"chart-position\">38</p>,\n",
       " <p class=\"title-artist\"><cite class=\"title\">Heaven</cite><em class=\"artist\">Niall Horan</em></p>,\n",
       " <p class=\"chart-position\">39</p>,\n",
       " <p class=\"title-artist\"><cite class=\"title\">Rock and A Hard Place</cite><em class=\"artist\">Bailey Zimmerman</em></p>,\n",
       " <p class=\"chart-position\">40</p>,\n",
       " <p class=\"title-artist\"><cite class=\"title\">One Thing At A Time</cite><em class=\"artist\">Morgan Wallen</em></p>,\n",
       " <p class=\"chart-position\">41</p>,\n",
       " <p class=\"title-artist\"><cite class=\"title\">To the Bar</cite><em class=\"artist\">Cooper Alan</em></p>,\n",
       " <p class=\"chart-position\">42</p>,\n",
       " <p class=\"title-artist\"><cite class=\"title\">Mourning</cite><em class=\"artist\">Post Malone</em></p>,\n",
       " <p class=\"chart-position\">43</p>,\n",
       " <p class=\"title-artist\"><cite class=\"title\">Something in the Orange (Z&amp;E's Version)</cite><em class=\"artist\">Zach Bryan</em></p>,\n",
       " <p class=\"chart-position\">44</p>,\n",
       " <p class=\"title-artist\"><cite class=\"title\">Popular</cite><em class=\"artist\">The Weeknd, Playboi Carti &amp; Madonna</em></p>,\n",
       " <p class=\"chart-position\">45</p>,\n",
       " <p class=\"title-artist\"><cite class=\"title\">Am I Dreaming</cite><em class=\"artist\">Metro Boomin, A$AP Rocky &amp; Roisee</em></p>,\n",
       " <p class=\"chart-position\">46</p>,\n",
       " <p class=\"title-artist\"><cite class=\"title\">Praise You Anywhere</cite><em class=\"artist\">Brandon Lake</em></p>,\n",
       " <p class=\"chart-position\">47</p>,\n",
       " <p class=\"title-artist\"><cite class=\"title\">Bury Me in Georgia (Single Edit)</cite><em class=\"artist\">Kane Brown</em></p>,\n",
       " <p class=\"chart-position\">48</p>,\n",
       " <p class=\"title-artist\"><cite class=\"title\">Watermelon Moonshine</cite><em class=\"artist\">Lainey Wilson</em></p>,\n",
       " <p class=\"chart-position\">49</p>,\n",
       " <p class=\"title-artist\"><cite class=\"title\">Next Thing You Know</cite><em class=\"artist\">Jordan Davis</em></p>,\n",
       " <p class=\"chart-position\">50</p>,\n",
       " <p class=\"title-artist\"><cite class=\"title\">Can She Have This Dance</cite><em class=\"artist\">Drew Baldridge</em></p>,\n",
       " <p class=\"chart-position\">51</p>,\n",
       " <p class=\"title-artist\"><cite class=\"title\">Tennessee Orange</cite><em class=\"artist\">Megan Moroney</em></p>,\n",
       " <p class=\"chart-position\">52</p>,\n",
       " <p class=\"title-artist\"><cite class=\"title\">Chemical</cite><em class=\"artist\">Post Malone</em></p>,\n",
       " <p class=\"chart-position\">53</p>,\n",
       " <p class=\"title-artist\"><cite class=\"title\">Dial Drunk</cite><em class=\"artist\">Noah Kahan</em></p>,\n",
       " <p class=\"chart-position\">54</p>,\n",
       " <p class=\"title-artist\"><cite class=\"title\">Tennessee Whiskey</cite><em class=\"artist\">Chris Stapleton</em></p>,\n",
       " <p class=\"chart-position\">55</p>,\n",
       " <p class=\"title-artist\"><cite class=\"title\">Daylight</cite><em class=\"artist\">David Kushner</em></p>,\n",
       " <p class=\"chart-position\">56</p>,\n",
       " <p class=\"title-artist\"><cite class=\"title\">Fast Car</cite><em class=\"artist\">Tracy Chapman</em></p>,\n",
       " <p class=\"chart-position\">57</p>,\n",
       " <p class=\"title-artist\"><cite class=\"title\">Unstoppable</cite><em class=\"artist\">Sia</em></p>,\n",
       " <p class=\"chart-position\">58</p>,\n",
       " <p class=\"title-artist\"><cite class=\"title\">Wasted On You</cite><em class=\"artist\">Morgan Wallen</em></p>,\n",
       " <p class=\"chart-position\">59</p>,\n",
       " <p class=\"title-artist\"><cite class=\"title\">Hip Hop Hooray (Re-recorded Version)</cite><em class=\"artist\">Naughty By Nature</em></p>,\n",
       " <p class=\"chart-position\">60</p>,\n",
       " <p class=\"title-artist\"><cite class=\"title\">wait in the truck</cite><em class=\"artist\">HARDY &amp; Lainey Wilson</em></p>,\n",
       " <p class=\"chart-position\">61</p>,\n",
       " <p class=\"title-artist\"><cite class=\"title\">Sure Thing</cite><em class=\"artist\">Miguel</em></p>,\n",
       " <p class=\"chart-position\">62</p>,\n",
       " <p class=\"title-artist\"><cite class=\"title\">Ella Baila Sola</cite><em class=\"artist\">Eslabon Armado &amp; Peso Pluma</em></p>,\n",
       " <p class=\"chart-position\">63</p>,\n",
       " <p class=\"title-artist\"><cite class=\"title\">Halfway To Hell</cite><em class=\"artist\">Jelly Roll</em></p>,\n",
       " <p class=\"chart-position\">64</p>,\n",
       " <p class=\"title-artist\"><cite class=\"title\">Waffle House</cite><em class=\"artist\">Jonas Brothers</em></p>,\n",
       " <p class=\"chart-position\">65</p>,\n",
       " <p class=\"title-artist\"><cite class=\"title\">Take Me Out</cite><em class=\"artist\">Carrie Underwood</em></p>,\n",
       " <p class=\"chart-position\">66</p>,\n",
       " <p class=\"title-artist\"><cite class=\"title\">Shivers</cite><em class=\"artist\">Ed Sheeran</em></p>,\n",
       " <p class=\"chart-position\">67</p>,\n",
       " <p class=\"title-artist\"><cite class=\"title\">Peaches</cite><em class=\"artist\">Jack Black</em></p>,\n",
       " <p class=\"chart-position\">68</p>,\n",
       " <p class=\"title-artist\"><cite class=\"title\">Try That In A Small Town</cite><em class=\"artist\">Jason Aldean</em></p>,\n",
       " <p class=\"chart-position\">69</p>,\n",
       " <p class=\"title-artist\"><cite class=\"title\">O.P.P. (Re-recorded Version)</cite><em class=\"artist\">Naughty By Nature</em></p>,\n",
       " <p class=\"chart-position\">70</p>,\n",
       " <p class=\"title-artist\"><cite class=\"title\">Cupid (Twin Ver.)</cite><em class=\"artist\">FIFTY FIFTY</em></p>,\n",
       " <p class=\"chart-position\">71</p>,\n",
       " <p class=\"title-artist\"><cite class=\"title\">You Proof</cite><em class=\"artist\">Morgan Wallen</em></p>,\n",
       " <p class=\"chart-position\">72</p>,\n",
       " <p class=\"title-artist\"><cite class=\"title\">Oklahoma Smokeshow</cite><em class=\"artist\">Zach Bryan</em></p>,\n",
       " <p class=\"chart-position\">73</p>,\n",
       " <p class=\"title-artist\"><cite class=\"title\">WHERE SHE GOES</cite><em class=\"artist\">Bad Bunny</em></p>,\n",
       " <p class=\"chart-position\">74</p>,\n",
       " <p class=\"title-artist\"><cite class=\"title\">One Margarita (Margarita Song)</cite><em class=\"artist\">That Chick Angel, Casa Di &amp; Steve Terrell</em></p>,\n",
       " <p class=\"chart-position\">75</p>,\n",
       " <p class=\"title-artist\"><cite class=\"title\">red flag collector</cite><em class=\"artist\">Kelly Clarkson</em></p>,\n",
       " <p class=\"chart-position\">76</p>,\n",
       " <p class=\"title-artist\"><cite class=\"title\">Gratitude</cite><em class=\"artist\">Brandon Lake</em></p>,\n",
       " <p class=\"chart-position\">77</p>,\n",
       " <p class=\"title-artist\"><cite class=\"title\">TRUCK BED</cite><em class=\"artist\">HARDY</em></p>,\n",
       " <p class=\"chart-position\">78</p>,\n",
       " <p class=\"title-artist\"><cite class=\"title\">Drinkaby</cite><em class=\"artist\">Cole Swindell</em></p>,\n",
       " <p class=\"chart-position\">79</p>,\n",
       " <p class=\"title-artist\"><cite class=\"title\">Slut Me Out</cite><em class=\"artist\">NLE Choppa</em></p>,\n",
       " <p class=\"chart-position\">80</p>,\n",
       " <p class=\"title-artist\"><cite class=\"title\">PLEBADA</cite><em class=\"artist\">El Alfa &amp; Peso Pluma</em></p>,\n",
       " <p class=\"chart-position\">81</p>,\n",
       " <p class=\"title-artist\"><cite class=\"title\">Whiskey Glasses</cite><em class=\"artist\">Morgan Wallen</em></p>,\n",
       " <p class=\"chart-position\">82</p>,\n",
       " <p class=\"title-artist\"><cite class=\"title\">I Ain't Worried</cite><em class=\"artist\">OneRepublic</em></p>,\n",
       " <p class=\"chart-position\">83</p>,\n",
       " <p class=\"title-artist\"><cite class=\"title\">Makeba</cite><em class=\"artist\">Jain</em></p>,\n",
       " <p class=\"chart-position\">84</p>,\n",
       " <p class=\"title-artist\"><cite class=\"title\">Karma (feat. Ice Spice)</cite><em class=\"artist\">Taylor Swift</em></p>,\n",
       " <p class=\"chart-position\">85</p>,\n",
       " <p class=\"title-artist\"><cite class=\"title\">Perfect</cite><em class=\"artist\">Ed Sheeran</em></p>,\n",
       " <p class=\"chart-position\">86</p>,\n",
       " <p class=\"title-artist\"><cite class=\"title\">Thunderstruck</cite><em class=\"artist\">AC/DC</em></p>,\n",
       " <p class=\"chart-position\">87</p>,\n",
       " <p class=\"title-artist\"><cite class=\"title\">Lilith (Diablo IV Anthem)</cite><em class=\"artist\">Halsey, SUGA of BTS</em></p>,\n",
       " <p class=\"chart-position\">88</p>,\n",
       " <p class=\"title-artist\"><cite class=\"title\">As It Was</cite><em class=\"artist\">Harry Styles</em></p>,\n",
       " <p class=\"chart-position\">89</p>,\n",
       " <p class=\"title-artist\"><cite class=\"title\">You Need To Calm Down</cite><em class=\"artist\">Taylor Swift</em></p>,\n",
       " <p class=\"chart-position\">90</p>,\n",
       " <p class=\"title-artist\"><cite class=\"title\">Lover</cite><em class=\"artist\">Taylor Swift</em></p>,\n",
       " <p class=\"chart-position\">91</p>,\n",
       " <p class=\"title-artist\"><cite class=\"title\">Hits Different</cite><em class=\"artist\">Taylor Swift</em></p>,\n",
       " <p class=\"chart-position\">92</p>,\n",
       " <p class=\"title-artist\"><cite class=\"title\">Life Goes On (feat. Luke Combs)</cite><em class=\"artist\">Ed Sheeran</em></p>,\n",
       " <p class=\"chart-position\">93</p>,\n",
       " <p class=\"title-artist\"><cite class=\"title\">Your Heart Or Mine</cite><em class=\"artist\">Jon Pardi</em></p>,\n",
       " <p class=\"chart-position\">94</p>,\n",
       " <p class=\"title-artist\"><cite class=\"title\">Memory Lane</cite><em class=\"artist\">Old Dominion</em></p>,\n",
       " <p class=\"chart-position\">95</p>,\n",
       " <p class=\"title-artist\"><cite class=\"title\">HAPPY</cite><em class=\"artist\">NF</em></p>,\n",
       " <p class=\"chart-position\">96</p>,\n",
       " <p class=\"title-artist\"><cite class=\"title\">Sunflower (Spider-Man: Into the Spider-Verse)</cite><em class=\"artist\">Post Malone &amp; Swae Lee</em></p>,\n",
       " <p class=\"chart-position\">97</p>,\n",
       " <p class=\"title-artist\"><cite class=\"title\">Beat You There</cite><em class=\"artist\">Will Dempsey</em></p>,\n",
       " <p class=\"chart-position\">98</p>,\n",
       " <p class=\"title-artist\"><cite class=\"title\">'Til You Can't</cite><em class=\"artist\">Cody Johnson</em></p>,\n",
       " <p class=\"chart-position\">99</p>,\n",
       " <p class=\"title-artist\"><cite class=\"title\">Put It On Da Floor Again (feat. Cardi B)</cite><em class=\"artist\">Latto</em></p>,\n",
       " <p class=\"chart-position\">100</p>,\n",
       " <p class=\"title-artist\"><cite class=\"title\">Chasin' You</cite><em class=\"artist\">Morgan Wallen</em></p>,\n",
       " <p class=\"copyright\">© Copyright 2010 - 2023 popvortex.com | <a href=\"/info/contact.php\">Contact</a> | <a href=\"/info/privacy-policy.php\">Privacy Policy</a> | iTunes® is a trademark of Apple Inc.</p>]"
      ]
     },
     "execution_count": 16,
     "metadata": {},
     "output_type": "execute_result"
    }
   ],
   "source": [
    "title"
   ]
  },
  {
   "cell_type": "code",
   "execution_count": 59,
   "id": "814e27a1",
   "metadata": {},
   "outputs": [],
   "source": [
    "top100 = pd.DataFrame({\"title\":title,\n",
    "                       \"artist\":artist})"
   ]
  },
  {
   "cell_type": "code",
   "execution_count": 60,
   "id": "2a6e305a",
   "metadata": {},
   "outputs": [
    {
     "data": {
      "text/html": [
       "<div>\n",
       "<style scoped>\n",
       "    .dataframe tbody tr th:only-of-type {\n",
       "        vertical-align: middle;\n",
       "    }\n",
       "\n",
       "    .dataframe tbody tr th {\n",
       "        vertical-align: top;\n",
       "    }\n",
       "\n",
       "    .dataframe thead th {\n",
       "        text-align: right;\n",
       "    }\n",
       "</style>\n",
       "<table border=\"1\" class=\"dataframe\">\n",
       "  <thead>\n",
       "    <tr style=\"text-align: right;\">\n",
       "      <th></th>\n",
       "      <th>title</th>\n",
       "      <th>artist</th>\n",
       "    </tr>\n",
       "  </thead>\n",
       "  <tbody>\n",
       "    <tr>\n",
       "      <th>0</th>\n",
       "      <td>Fast Car</td>\n",
       "      <td>Luke Combs</td>\n",
       "    </tr>\n",
       "    <tr>\n",
       "      <th>1</th>\n",
       "      <td>Take Two</td>\n",
       "      <td>BTS</td>\n",
       "    </tr>\n",
       "    <tr>\n",
       "      <th>2</th>\n",
       "      <td>Last Night</td>\n",
       "      <td>Morgan Wallen</td>\n",
       "    </tr>\n",
       "    <tr>\n",
       "      <th>3</th>\n",
       "      <td>Need A Favor</td>\n",
       "      <td>Jelly Roll</td>\n",
       "    </tr>\n",
       "    <tr>\n",
       "      <th>4</th>\n",
       "      <td>81 Million Votes, My Ass</td>\n",
       "      <td>The Truth Bombers &amp; Kari Lake</td>\n",
       "    </tr>\n",
       "    <tr>\n",
       "      <th>...</th>\n",
       "      <td>...</td>\n",
       "      <td>...</td>\n",
       "    </tr>\n",
       "    <tr>\n",
       "      <th>95</th>\n",
       "      <td>Sunflower (Spider-Man: Into the Spider-Verse)</td>\n",
       "      <td>Post Malone &amp; Swae Lee</td>\n",
       "    </tr>\n",
       "    <tr>\n",
       "      <th>96</th>\n",
       "      <td>Beat You There</td>\n",
       "      <td>Will Dempsey</td>\n",
       "    </tr>\n",
       "    <tr>\n",
       "      <th>97</th>\n",
       "      <td>'Til You Can't</td>\n",
       "      <td>Cody Johnson</td>\n",
       "    </tr>\n",
       "    <tr>\n",
       "      <th>98</th>\n",
       "      <td>Put It On Da Floor Again (feat. Cardi B)</td>\n",
       "      <td>Latto</td>\n",
       "    </tr>\n",
       "    <tr>\n",
       "      <th>99</th>\n",
       "      <td>Chasin' You</td>\n",
       "      <td>Morgan Wallen</td>\n",
       "    </tr>\n",
       "  </tbody>\n",
       "</table>\n",
       "<p>100 rows × 2 columns</p>\n",
       "</div>"
      ],
      "text/plain": [
       "                                            title  \\\n",
       "0                                        Fast Car   \n",
       "1                                        Take Two   \n",
       "2                                      Last Night   \n",
       "3                                    Need A Favor   \n",
       "4                        81 Million Votes, My Ass   \n",
       "..                                            ...   \n",
       "95  Sunflower (Spider-Man: Into the Spider-Verse)   \n",
       "96                                 Beat You There   \n",
       "97                                 'Til You Can't   \n",
       "98       Put It On Da Floor Again (feat. Cardi B)   \n",
       "99                                    Chasin' You   \n",
       "\n",
       "                           artist  \n",
       "0                      Luke Combs  \n",
       "1                             BTS  \n",
       "2                   Morgan Wallen  \n",
       "3                      Jelly Roll  \n",
       "4   The Truth Bombers & Kari Lake  \n",
       "..                            ...  \n",
       "95         Post Malone & Swae Lee  \n",
       "96                   Will Dempsey  \n",
       "97                   Cody Johnson  \n",
       "98                          Latto  \n",
       "99                  Morgan Wallen  \n",
       "\n",
       "[100 rows x 2 columns]"
      ]
     },
     "execution_count": 60,
     "metadata": {},
     "output_type": "execute_result"
    }
   ],
   "source": [
    "top100"
   ]
  },
  {
   "cell_type": "code",
   "execution_count": 244,
   "id": "9bcf033e",
   "metadata": {},
   "outputs": [],
   "source": [
    "top100.to_csv('top100fromsoup.csv')"
   ]
  },
  {
   "cell_type": "markdown",
   "id": "6641798b",
   "metadata": {},
   "source": [
    "## Lab 6.2"
   ]
  },
  {
   "cell_type": "code",
   "execution_count": 129,
   "id": "bcc6bb3c",
   "metadata": {},
   "outputs": [],
   "source": [
    "url1=\"https://www.billboard.com/charts/greatest-hot-100-singles/\""
   ]
  },
  {
   "cell_type": "code",
   "execution_count": 130,
   "id": "e43f433f",
   "metadata": {},
   "outputs": [
    {
     "data": {
      "text/plain": [
       "200"
      ]
     },
     "execution_count": 130,
     "metadata": {},
     "output_type": "execute_result"
    }
   ],
   "source": [
    "response = requests.get(url1)\n",
    "response.status_code"
   ]
  },
  {
   "cell_type": "code",
   "execution_count": 131,
   "id": "42d0a79f",
   "metadata": {},
   "outputs": [],
   "source": [
    "soup = BeautifulSoup(response.content, \"html.parser\")"
   ]
  },
  {
   "cell_type": "code",
   "execution_count": 239,
   "id": "7527fbd4",
   "metadata": {},
   "outputs": [
    {
     "data": {
      "text/plain": [
       "'Blinding Lights'"
      ]
     },
     "execution_count": 239,
     "metadata": {},
     "output_type": "execute_result"
    }
   ],
   "source": [
    "soup.select(\"div > div > div.chart-results-list.\\/\\/.u-padding-b-250.u-max-width-830.lrv-u-margin-lr-auto h3\")[0].get_text(strip=True)"
   ]
  },
  {
   "cell_type": "code",
   "execution_count": 229,
   "id": "a56acf86",
   "metadata": {},
   "outputs": [
    {
     "data": {
      "text/plain": [
       "'The Weeknd'"
      ]
     },
     "execution_count": 229,
     "metadata": {},
     "output_type": "execute_result"
    }
   ],
   "source": [
    "soup.select(\"ul > li.lrv-u-width-100p > ul > li.o-chart-results-list__item.\\/\\/.lrv-u-flex-grow-1.lrv-u-flex.lrv-u-flex-direction-column.lrv-u-justify-content-center.lrv-u-border-b-1.lrv-u-border-color-grey-light.lrv-u-padding-l-2.lrv-u-padding-r-1.lrv-u-padding-l-1\\@mobile-max > span\")[0].get_text(strip=True)"
   ]
  },
  {
   "cell_type": "code",
   "execution_count": 227,
   "id": "42baae53",
   "metadata": {
    "scrolled": true
   },
   "outputs": [
    {
     "name": "stdout",
     "output_type": "stream",
     "text": [
      "['Blinding Lights', 'The Twist', 'Smooth', 'Mack The Knife', 'Uptown Funk!', 'How Do I Live', 'Party Rock Anthem', 'I Gotta Feeling', 'Macarena (Bayside Boys Mix)', 'Shape Of You', 'Physical', 'You Light Up My Life', 'Hey Jude', 'Closer', 'We Belong Together', 'Un-Break My Heart', 'Yeah!', 'Bette Davis Eyes', 'Circles', 'Endless Love', \"Tonight's The Night (Gonna Be Alright)\", 'Foolish Games/You Were Meant For Me', '(Everything I Do) I Do It For You', \"I'Ll Make Love To You\", 'The Theme From \"A Summer Place\"', 'Le Freak', 'How Deep Is Your Love', 'Eye Of The Tiger', 'We Found Love', 'Girls Like You', 'Low', 'Levitating', 'I Just Want To Be Your Everything', 'Too Close', 'Every Breath You Take', 'Somebody That I Used To Know', 'Despacito', 'Flashdance...What A Feeling', 'Rolling In The Deep', \"Tossin' And Turnin'\", 'Old Town Road', 'The Battle Of New Orleans', 'One Sweet Day', 'Truly Madly Deeply', 'Silly Love Songs', \"Let's Get It On\", 'Night Fever', 'Another One Bites The Dust', 'Mood', 'Say Say Say', 'How You Remind Me', 'Tie A Yellow Ribbon Round The Ole Oak Tree', \"It's All In The Game\", 'I Want To Hold Your Hand', 'Shadow Dancing', 'Call Me Maybe', 'Blurred Lines', 'Candle In The Wind 1997/Something About The Way You Look Tonight', 'No One', 'I Will Always Love You', 'End Of The Road', 'Perfect', 'Boom Boom Pow', 'Call Me', 'Let Me Love You', \"Stayin' Alive\", 'Lady', 'Tik Tok', \"I'm A Believer\", 'Gold Digger', 'Apologize', 'The Sign', 'Centerfold', 'All About That Bass', 'Sunflower (Spider-Man: Into The Spider-Verse)', '(Just Like) Starting Over', 'Royals', 'The Boy Is Mine', 'Because I Love You (The Postman Song)', \"I Love Rock 'N Roll\", 'Aquarius/Let The Sunshine In (The Flesh Failures)', 'Whoomp! (There It Is)', \"God's Plan\", 'Moves Like Jagger', 'Ebony And Ivory', 'Rush Rush', \"That's What Friends Are For\", 'Happy', 'Upside Down', 'Sugar, Sugar', 'Just The Way You Are', 'Dilemma', 'I Heard It Through The Grapevine', \"You're Still The One\", 'Billie Jean', 'Hot Stuff', 'Rockstar', \"Gangsta's Paradise\", 'Abracadabra', \"You're So Vain\"]\n",
      "['The Weeknd', 'Chubby Checker', 'Santana Featuring Rob Thomas', 'Bobby Darin', 'Mark Ronson Featuring Bruno Mars', 'LeAnn Rimes', 'LMFAO Featuring Lauren Bennett & GoonRock', 'The Black Eyed Peas', 'Los Del Rio', 'Ed Sheeran', 'Olivia Newton-John', 'Debby Boone', 'The Beatles', 'The Chainsmokers Featuring Halsey', 'Mariah Carey', 'Toni Braxton', 'Usher Featuring Lil Jon & Ludacris', 'Kim Carnes', 'Post Malone', 'Diana Ross & Lionel Richie', 'Rod Stewart', 'Jewel', 'Bryan Adams', 'Boyz II Men', 'Percy Faith And His Orchestra', 'Chic', 'Bee Gees', 'Survivor', 'Rihanna Featuring Calvin Harris', 'Maroon 5 Featuring Cardi B', 'Flo Rida Featuring T-Pain', 'Dua Lipa', 'Andy Gibb', 'Next', 'The Police', 'Gotye Featuring Kimbra', 'Luis Fonsi & Daddy Yankee Featuring Justin Bieber', 'Irene Cara', 'Adele', 'Bobby Lewis', 'Lil Nas X Featuring Billy Ray Cyrus', 'Johnny Horton', 'Mariah Carey & Boyz II Men', 'Savage Garden', 'Wings', 'Marvin Gaye', 'Bee Gees', 'Queen', '24kGoldn Featuring iann dior', 'Paul McCartney And Michael Jackson', 'Nickelback', 'Dawn Featuring Tony Orlando', 'Tommy Edwards', 'The Beatles', 'Andy Gibb', 'Carly Rae Jepsen', 'Robin Thicke Featuring T.I. + Pharrell', 'Elton John', 'Alicia Keys', 'Whitney Houston', 'Boyz II Men', 'Ed Sheeran', 'The Black Eyed Peas', 'Blondie', 'Mario', 'Bee Gees', 'Kenny Rogers', 'Ke$ha', 'The Monkees', 'Kanye West Featuring Jamie Foxx', 'Timbaland Featuring OneRepublic', 'Ace Of Base', 'The J. Geils Band', 'Meghan Trainor', 'Post Malone & Swae Lee', 'John Lennon', 'Lorde', 'Brandy & Monica', 'Stevie B', 'Joan Jett & The Blackhearts', 'The 5th Dimension', 'Tag Team', 'Drake', 'Maroon 5 Featuring Christina Aguilera', 'Paul McCartney And Stevie Wonder', 'Paula Abdul', 'Dionne & Friends Featuring Elton John, Gladys Knight And Stevie Wonder', 'Pharrell Williams', 'Diana Ross', 'The Archies', 'Bruno Mars', 'Nelly Featuring Kelly Rowland', 'Marvin Gaye', 'Shania Twain', 'Michael Jackson', 'Donna Summer', 'Post Malone Featuring 21 Savage', 'Coolio Featuring L.V.', 'The Steve Miller Band', 'Carly Simon']\n"
     ]
    }
   ],
   "source": [
    "#initialize empty lists\n",
    "title = []\n",
    "artist =[]\n",
    "\n",
    "\n",
    "# define the number of iterations of our for loop\n",
    "# by checking how many elements are in the retrieved result set\n",
    "# (this is equivalent but more robust than just explicitly defining 250 iterations)\n",
    "\n",
    "num_iter2 = len(soup.select(\" ul > li.lrv-u-width-100p > ul > li.o-chart-results-list__item.\\/\\/.lrv-u-flex-grow-1.lrv-u-flex.lrv-u-flex-direction-column.lrv-u-justify-content-center.lrv-u-border-b-1.lrv-u-border-color-grey-light.lrv-u-padding-l-2.lrv-u-padding-r-1.lrv-u-padding-l-1\\@mobile-max > span\"))\n",
    "\n",
    "# iterate through the result set and retrive all the data\n",
    "\n",
    "for i in range(num_iter2):\n",
    "    title.append(soup.select(\"div > div > div.chart-results-list.\\/\\/.u-padding-b-250.u-max-width-830.lrv-u-margin-lr-auto h3\")[i].get_text(strip=True))\n",
    "    artist.append(soup.select(\"ul > li.lrv-u-width-100p > ul > li.o-chart-results-list__item.\\/\\/.lrv-u-flex-grow-1.lrv-u-flex.lrv-u-flex-direction-column.lrv-u-justify-content-center.lrv-u-border-b-1.lrv-u-border-color-grey-light.lrv-u-padding-l-2.lrv-u-padding-r-1.lrv-u-padding-l-1\\@mobile-max > span\")[i].get_text(strip=True))\n",
    "    \n",
    "print(title)\n",
    "print(artist)"
   ]
  },
  {
   "cell_type": "code",
   "execution_count": 243,
   "id": "6d4bc39c",
   "metadata": {},
   "outputs": [
    {
     "data": {
      "text/html": [
       "<div>\n",
       "<style scoped>\n",
       "    .dataframe tbody tr th:only-of-type {\n",
       "        vertical-align: middle;\n",
       "    }\n",
       "\n",
       "    .dataframe tbody tr th {\n",
       "        vertical-align: top;\n",
       "    }\n",
       "\n",
       "    .dataframe thead th {\n",
       "        text-align: right;\n",
       "    }\n",
       "</style>\n",
       "<table border=\"1\" class=\"dataframe\">\n",
       "  <thead>\n",
       "    <tr style=\"text-align: right;\">\n",
       "      <th></th>\n",
       "      <th>title</th>\n",
       "      <th>artist</th>\n",
       "    </tr>\n",
       "  </thead>\n",
       "  <tbody>\n",
       "    <tr>\n",
       "      <th>0</th>\n",
       "      <td>Blinding Lights</td>\n",
       "      <td>The Weeknd</td>\n",
       "    </tr>\n",
       "    <tr>\n",
       "      <th>1</th>\n",
       "      <td>The Twist</td>\n",
       "      <td>Chubby Checker</td>\n",
       "    </tr>\n",
       "    <tr>\n",
       "      <th>2</th>\n",
       "      <td>Smooth</td>\n",
       "      <td>Santana Featuring Rob Thomas</td>\n",
       "    </tr>\n",
       "    <tr>\n",
       "      <th>3</th>\n",
       "      <td>Mack The Knife</td>\n",
       "      <td>Bobby Darin</td>\n",
       "    </tr>\n",
       "    <tr>\n",
       "      <th>4</th>\n",
       "      <td>Uptown Funk!</td>\n",
       "      <td>Mark Ronson Featuring Bruno Mars</td>\n",
       "    </tr>\n",
       "    <tr>\n",
       "      <th>...</th>\n",
       "      <td>...</td>\n",
       "      <td>...</td>\n",
       "    </tr>\n",
       "    <tr>\n",
       "      <th>95</th>\n",
       "      <td>Hot Stuff</td>\n",
       "      <td>Donna Summer</td>\n",
       "    </tr>\n",
       "    <tr>\n",
       "      <th>96</th>\n",
       "      <td>Rockstar</td>\n",
       "      <td>Post Malone Featuring 21 Savage</td>\n",
       "    </tr>\n",
       "    <tr>\n",
       "      <th>97</th>\n",
       "      <td>Gangsta's Paradise</td>\n",
       "      <td>Coolio Featuring L.V.</td>\n",
       "    </tr>\n",
       "    <tr>\n",
       "      <th>98</th>\n",
       "      <td>Abracadabra</td>\n",
       "      <td>The Steve Miller Band</td>\n",
       "    </tr>\n",
       "    <tr>\n",
       "      <th>99</th>\n",
       "      <td>You're So Vain</td>\n",
       "      <td>Carly Simon</td>\n",
       "    </tr>\n",
       "  </tbody>\n",
       "</table>\n",
       "<p>100 rows × 2 columns</p>\n",
       "</div>"
      ],
      "text/plain": [
       "                 title                            artist\n",
       "0      Blinding Lights                        The Weeknd\n",
       "1            The Twist                    Chubby Checker\n",
       "2               Smooth      Santana Featuring Rob Thomas\n",
       "3       Mack The Knife                       Bobby Darin\n",
       "4         Uptown Funk!  Mark Ronson Featuring Bruno Mars\n",
       "..                 ...                               ...\n",
       "95           Hot Stuff                      Donna Summer\n",
       "96            Rockstar   Post Malone Featuring 21 Savage\n",
       "97  Gangsta's Paradise             Coolio Featuring L.V.\n",
       "98         Abracadabra             The Steve Miller Band\n",
       "99      You're So Vain                       Carly Simon\n",
       "\n",
       "[100 rows x 2 columns]"
      ]
     },
     "execution_count": 243,
     "metadata": {},
     "output_type": "execute_result"
    }
   ],
   "source": [
    "hottest100= pd.DataFrame({\"title\":title,\n",
    "                       \"artist\":artist})\n",
    "hottest100"
   ]
  }
 ],
 "metadata": {
  "kernelspec": {
   "display_name": "Python 3 (ipykernel)",
   "language": "python",
   "name": "python3"
  },
  "language_info": {
   "codemirror_mode": {
    "name": "ipython",
    "version": 3
   },
   "file_extension": ".py",
   "mimetype": "text/x-python",
   "name": "python",
   "nbconvert_exporter": "python",
   "pygments_lexer": "ipython3",
   "version": "3.10.9"
  }
 },
 "nbformat": 4,
 "nbformat_minor": 5
}
