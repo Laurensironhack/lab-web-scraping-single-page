{
 "cells": [
  {
   "cell_type": "code",
   "execution_count": 4,
   "id": "508561d1",
   "metadata": {},
   "outputs": [],
   "source": [
    "from bs4 import BeautifulSoup\n",
    "import requests\n",
    "import pandas as pd\n",
    "from random import randint\n",
    "import random"
   ]
  },
  {
   "cell_type": "code",
   "execution_count": 13,
   "id": "678f93f7",
   "metadata": {},
   "outputs": [],
   "source": [
    "file1 = pd.read_csv('top100fromsoup.csv')"
   ]
  },
  {
   "cell_type": "code",
   "execution_count": 14,
   "id": "d8f6380d",
   "metadata": {},
   "outputs": [
    {
     "data": {
      "text/html": [
       "<div>\n",
       "<style scoped>\n",
       "    .dataframe tbody tr th:only-of-type {\n",
       "        vertical-align: middle;\n",
       "    }\n",
       "\n",
       "    .dataframe tbody tr th {\n",
       "        vertical-align: top;\n",
       "    }\n",
       "\n",
       "    .dataframe thead th {\n",
       "        text-align: right;\n",
       "    }\n",
       "</style>\n",
       "<table border=\"1\" class=\"dataframe\">\n",
       "  <thead>\n",
       "    <tr style=\"text-align: right;\">\n",
       "      <th></th>\n",
       "      <th>Unnamed: 0</th>\n",
       "      <th>title</th>\n",
       "      <th>artist</th>\n",
       "    </tr>\n",
       "  </thead>\n",
       "  <tbody>\n",
       "    <tr>\n",
       "      <th>0</th>\n",
       "      <td>0</td>\n",
       "      <td>Fast Car</td>\n",
       "      <td>Luke Combs</td>\n",
       "    </tr>\n",
       "    <tr>\n",
       "      <th>1</th>\n",
       "      <td>1</td>\n",
       "      <td>Take Two</td>\n",
       "      <td>BTS</td>\n",
       "    </tr>\n",
       "    <tr>\n",
       "      <th>2</th>\n",
       "      <td>2</td>\n",
       "      <td>Last Night</td>\n",
       "      <td>Morgan Wallen</td>\n",
       "    </tr>\n",
       "    <tr>\n",
       "      <th>3</th>\n",
       "      <td>3</td>\n",
       "      <td>Need A Favor</td>\n",
       "      <td>Jelly Roll</td>\n",
       "    </tr>\n",
       "    <tr>\n",
       "      <th>4</th>\n",
       "      <td>4</td>\n",
       "      <td>81 Million Votes, My Ass</td>\n",
       "      <td>The Truth Bombers &amp; Kari Lake</td>\n",
       "    </tr>\n",
       "    <tr>\n",
       "      <th>...</th>\n",
       "      <td>...</td>\n",
       "      <td>...</td>\n",
       "      <td>...</td>\n",
       "    </tr>\n",
       "    <tr>\n",
       "      <th>95</th>\n",
       "      <td>95</td>\n",
       "      <td>Sunflower (Spider-Man: Into the Spider-Verse)</td>\n",
       "      <td>Post Malone &amp; Swae Lee</td>\n",
       "    </tr>\n",
       "    <tr>\n",
       "      <th>96</th>\n",
       "      <td>96</td>\n",
       "      <td>Beat You There</td>\n",
       "      <td>Will Dempsey</td>\n",
       "    </tr>\n",
       "    <tr>\n",
       "      <th>97</th>\n",
       "      <td>97</td>\n",
       "      <td>'Til You Can't</td>\n",
       "      <td>Cody Johnson</td>\n",
       "    </tr>\n",
       "    <tr>\n",
       "      <th>98</th>\n",
       "      <td>98</td>\n",
       "      <td>Put It On Da Floor Again (feat. Cardi B)</td>\n",
       "      <td>Latto</td>\n",
       "    </tr>\n",
       "    <tr>\n",
       "      <th>99</th>\n",
       "      <td>99</td>\n",
       "      <td>Chasin' You</td>\n",
       "      <td>Morgan Wallen</td>\n",
       "    </tr>\n",
       "  </tbody>\n",
       "</table>\n",
       "<p>100 rows × 3 columns</p>\n",
       "</div>"
      ],
      "text/plain": [
       "    Unnamed: 0                                          title  \\\n",
       "0            0                                       Fast Car   \n",
       "1            1                                       Take Two   \n",
       "2            2                                     Last Night   \n",
       "3            3                                   Need A Favor   \n",
       "4            4                       81 Million Votes, My Ass   \n",
       "..         ...                                            ...   \n",
       "95          95  Sunflower (Spider-Man: Into the Spider-Verse)   \n",
       "96          96                                 Beat You There   \n",
       "97          97                                 'Til You Can't   \n",
       "98          98       Put It On Da Floor Again (feat. Cardi B)   \n",
       "99          99                                    Chasin' You   \n",
       "\n",
       "                           artist  \n",
       "0                      Luke Combs  \n",
       "1                             BTS  \n",
       "2                   Morgan Wallen  \n",
       "3                      Jelly Roll  \n",
       "4   The Truth Bombers & Kari Lake  \n",
       "..                            ...  \n",
       "95         Post Malone & Swae Lee  \n",
       "96                   Will Dempsey  \n",
       "97                   Cody Johnson  \n",
       "98                          Latto  \n",
       "99                  Morgan Wallen  \n",
       "\n",
       "[100 rows x 3 columns]"
      ]
     },
     "execution_count": 14,
     "metadata": {},
     "output_type": "execute_result"
    }
   ],
   "source": [
    "file1"
   ]
  },
  {
   "cell_type": "code",
   "execution_count": 15,
   "id": "88d79a19",
   "metadata": {},
   "outputs": [],
   "source": [
    "import random"
   ]
  },
  {
   "cell_type": "code",
   "execution_count": 24,
   "id": "ff8ff031",
   "metadata": {},
   "outputs": [
    {
     "name": "stdout",
     "output_type": "stream",
     "text": [
      "your song here:Fast Car\n"
     ]
    }
   ],
   "source": [
    "txt = input(\"your song here:\")"
   ]
  },
  {
   "cell_type": "code",
   "execution_count": 44,
   "id": "a3003797",
   "metadata": {},
   "outputs": [
    {
     "name": "stdout",
     "output_type": "stream",
     "text": [
      "We recommend: Karma\n"
     ]
    }
   ],
   "source": [
    "if txt in file1[\"title\"].values:\n",
    "    print(\"We recommend:\",random.choice(file1[\"title\"]))!=txt\n",
    "else:\n",
    "    print(\"no recommendations for you\")"
   ]
  }
 ],
 "metadata": {
  "kernelspec": {
   "display_name": "Python 3 (ipykernel)",
   "language": "python",
   "name": "python3"
  },
  "language_info": {
   "codemirror_mode": {
    "name": "ipython",
    "version": 3
   },
   "file_extension": ".py",
   "mimetype": "text/x-python",
   "name": "python",
   "nbconvert_exporter": "python",
   "pygments_lexer": "ipython3",
   "version": "3.10.9"
  }
 },
 "nbformat": 4,
 "nbformat_minor": 5
}
